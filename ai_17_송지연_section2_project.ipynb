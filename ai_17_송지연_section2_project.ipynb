{
  "nbformat": 4,
  "nbformat_minor": 0,
  "metadata": {
    "colab": {
      "provenance": []
    },
    "kernelspec": {
      "name": "python3",
      "display_name": "Python 3"
    },
    "language_info": {
      "name": "python"
    }
  },
  "cells": [
    {
      "cell_type": "markdown",
      "source": [
        "## Section2 Project\n",
        "#### **유해물질 포함량에 따른 물의 안전성 문제**"
      ],
      "metadata": {
        "id": "gXe6iDD6-VLD"
      }
    },
    {
      "cell_type": "code",
      "execution_count": 12,
      "metadata": {
        "id": "rKmn4I41u0iL"
      },
      "outputs": [],
      "source": [
        "import pandas as pd\n",
        "import numpy as np\n",
        "import seaborn as sns\n",
        "import matplotlib.pyplot as plt"
      ]
    },
    {
      "cell_type": "code",
      "source": [
        "from google.colab import drive\n",
        "drive.mount('/content/gdrive')"
      ],
      "metadata": {
        "colab": {
          "base_uri": "https://localhost:8080/"
        },
        "id": "H9x46_XP3Tby",
        "outputId": "ae81cea9-8462-46da-f60e-5f94032f818e"
      },
      "execution_count": 13,
      "outputs": [
        {
          "output_type": "stream",
          "name": "stdout",
          "text": [
            "Drive already mounted at /content/gdrive; to attempt to forcibly remount, call drive.mount(\"/content/gdrive\", force_remount=True).\n"
          ]
        }
      ]
    },
    {
      "cell_type": "code",
      "source": [
        "df=pd.read_csv('/content/gdrive/MyDrive/waterQuality1.csv')\n",
        "df.head().T"
      ],
      "metadata": {
        "colab": {
          "base_uri": "https://localhost:8080/",
          "height": 708
        },
        "id": "LCewn5I210vi",
        "outputId": "94e7331a-8ce3-4191-d543-e91bb20a25ed"
      },
      "execution_count": 14,
      "outputs": [
        {
          "output_type": "execute_result",
          "data": {
            "text/plain": [
              "                 0      1      2      3      4\n",
              "aluminium     1.65   2.32   1.01   1.36   0.92\n",
              "ammonia       9.08  21.16  14.02  11.33  24.33\n",
              "arsenic       0.04   0.01   0.04   0.04   0.03\n",
              "barium        2.85   3.31   0.58   2.96    0.2\n",
              "cadmium      0.007  0.002  0.008  0.001  0.006\n",
              "chloramine    0.35   5.28   4.24   7.23   2.67\n",
              "chromium      0.83   0.68   0.53   0.03   0.69\n",
              "copper        0.17   0.66   0.02   1.66   0.57\n",
              "flouride      0.05    0.9   0.99   1.08   0.61\n",
              "bacteria       0.2   0.65   0.05   0.71   0.13\n",
              "viruses        0.0   0.65  0.003   0.71  0.001\n",
              "lead         0.054    0.1  0.078  0.016  0.117\n",
              "nitrates     16.08   2.01  14.16   1.41   6.74\n",
              "nitrites      1.13   1.93   1.11   1.29   1.11\n",
              "mercury      0.007  0.003  0.006  0.004  0.003\n",
              "perchlorate  37.75  32.26  50.28   9.12   16.9\n",
              "radium        6.78   3.21   7.07   1.72   2.41\n",
              "selenium      0.08   0.08   0.07   0.02   0.02\n",
              "silver        0.34   0.27   0.44   0.45   0.06\n",
              "uranium       0.02   0.05   0.01   0.05   0.02\n",
              "is_safe          1      1      0      1      1"
            ],
            "text/html": [
              "\n",
              "  <div id=\"df-3f7fbd2d-6422-47ea-bb30-da47b6f4aeaa\">\n",
              "    <div class=\"colab-df-container\">\n",
              "      <div>\n",
              "<style scoped>\n",
              "    .dataframe tbody tr th:only-of-type {\n",
              "        vertical-align: middle;\n",
              "    }\n",
              "\n",
              "    .dataframe tbody tr th {\n",
              "        vertical-align: top;\n",
              "    }\n",
              "\n",
              "    .dataframe thead th {\n",
              "        text-align: right;\n",
              "    }\n",
              "</style>\n",
              "<table border=\"1\" class=\"dataframe\">\n",
              "  <thead>\n",
              "    <tr style=\"text-align: right;\">\n",
              "      <th></th>\n",
              "      <th>0</th>\n",
              "      <th>1</th>\n",
              "      <th>2</th>\n",
              "      <th>3</th>\n",
              "      <th>4</th>\n",
              "    </tr>\n",
              "  </thead>\n",
              "  <tbody>\n",
              "    <tr>\n",
              "      <th>aluminium</th>\n",
              "      <td>1.65</td>\n",
              "      <td>2.32</td>\n",
              "      <td>1.01</td>\n",
              "      <td>1.36</td>\n",
              "      <td>0.92</td>\n",
              "    </tr>\n",
              "    <tr>\n",
              "      <th>ammonia</th>\n",
              "      <td>9.08</td>\n",
              "      <td>21.16</td>\n",
              "      <td>14.02</td>\n",
              "      <td>11.33</td>\n",
              "      <td>24.33</td>\n",
              "    </tr>\n",
              "    <tr>\n",
              "      <th>arsenic</th>\n",
              "      <td>0.04</td>\n",
              "      <td>0.01</td>\n",
              "      <td>0.04</td>\n",
              "      <td>0.04</td>\n",
              "      <td>0.03</td>\n",
              "    </tr>\n",
              "    <tr>\n",
              "      <th>barium</th>\n",
              "      <td>2.85</td>\n",
              "      <td>3.31</td>\n",
              "      <td>0.58</td>\n",
              "      <td>2.96</td>\n",
              "      <td>0.2</td>\n",
              "    </tr>\n",
              "    <tr>\n",
              "      <th>cadmium</th>\n",
              "      <td>0.007</td>\n",
              "      <td>0.002</td>\n",
              "      <td>0.008</td>\n",
              "      <td>0.001</td>\n",
              "      <td>0.006</td>\n",
              "    </tr>\n",
              "    <tr>\n",
              "      <th>chloramine</th>\n",
              "      <td>0.35</td>\n",
              "      <td>5.28</td>\n",
              "      <td>4.24</td>\n",
              "      <td>7.23</td>\n",
              "      <td>2.67</td>\n",
              "    </tr>\n",
              "    <tr>\n",
              "      <th>chromium</th>\n",
              "      <td>0.83</td>\n",
              "      <td>0.68</td>\n",
              "      <td>0.53</td>\n",
              "      <td>0.03</td>\n",
              "      <td>0.69</td>\n",
              "    </tr>\n",
              "    <tr>\n",
              "      <th>copper</th>\n",
              "      <td>0.17</td>\n",
              "      <td>0.66</td>\n",
              "      <td>0.02</td>\n",
              "      <td>1.66</td>\n",
              "      <td>0.57</td>\n",
              "    </tr>\n",
              "    <tr>\n",
              "      <th>flouride</th>\n",
              "      <td>0.05</td>\n",
              "      <td>0.9</td>\n",
              "      <td>0.99</td>\n",
              "      <td>1.08</td>\n",
              "      <td>0.61</td>\n",
              "    </tr>\n",
              "    <tr>\n",
              "      <th>bacteria</th>\n",
              "      <td>0.2</td>\n",
              "      <td>0.65</td>\n",
              "      <td>0.05</td>\n",
              "      <td>0.71</td>\n",
              "      <td>0.13</td>\n",
              "    </tr>\n",
              "    <tr>\n",
              "      <th>viruses</th>\n",
              "      <td>0.0</td>\n",
              "      <td>0.65</td>\n",
              "      <td>0.003</td>\n",
              "      <td>0.71</td>\n",
              "      <td>0.001</td>\n",
              "    </tr>\n",
              "    <tr>\n",
              "      <th>lead</th>\n",
              "      <td>0.054</td>\n",
              "      <td>0.1</td>\n",
              "      <td>0.078</td>\n",
              "      <td>0.016</td>\n",
              "      <td>0.117</td>\n",
              "    </tr>\n",
              "    <tr>\n",
              "      <th>nitrates</th>\n",
              "      <td>16.08</td>\n",
              "      <td>2.01</td>\n",
              "      <td>14.16</td>\n",
              "      <td>1.41</td>\n",
              "      <td>6.74</td>\n",
              "    </tr>\n",
              "    <tr>\n",
              "      <th>nitrites</th>\n",
              "      <td>1.13</td>\n",
              "      <td>1.93</td>\n",
              "      <td>1.11</td>\n",
              "      <td>1.29</td>\n",
              "      <td>1.11</td>\n",
              "    </tr>\n",
              "    <tr>\n",
              "      <th>mercury</th>\n",
              "      <td>0.007</td>\n",
              "      <td>0.003</td>\n",
              "      <td>0.006</td>\n",
              "      <td>0.004</td>\n",
              "      <td>0.003</td>\n",
              "    </tr>\n",
              "    <tr>\n",
              "      <th>perchlorate</th>\n",
              "      <td>37.75</td>\n",
              "      <td>32.26</td>\n",
              "      <td>50.28</td>\n",
              "      <td>9.12</td>\n",
              "      <td>16.9</td>\n",
              "    </tr>\n",
              "    <tr>\n",
              "      <th>radium</th>\n",
              "      <td>6.78</td>\n",
              "      <td>3.21</td>\n",
              "      <td>7.07</td>\n",
              "      <td>1.72</td>\n",
              "      <td>2.41</td>\n",
              "    </tr>\n",
              "    <tr>\n",
              "      <th>selenium</th>\n",
              "      <td>0.08</td>\n",
              "      <td>0.08</td>\n",
              "      <td>0.07</td>\n",
              "      <td>0.02</td>\n",
              "      <td>0.02</td>\n",
              "    </tr>\n",
              "    <tr>\n",
              "      <th>silver</th>\n",
              "      <td>0.34</td>\n",
              "      <td>0.27</td>\n",
              "      <td>0.44</td>\n",
              "      <td>0.45</td>\n",
              "      <td>0.06</td>\n",
              "    </tr>\n",
              "    <tr>\n",
              "      <th>uranium</th>\n",
              "      <td>0.02</td>\n",
              "      <td>0.05</td>\n",
              "      <td>0.01</td>\n",
              "      <td>0.05</td>\n",
              "      <td>0.02</td>\n",
              "    </tr>\n",
              "    <tr>\n",
              "      <th>is_safe</th>\n",
              "      <td>1</td>\n",
              "      <td>1</td>\n",
              "      <td>0</td>\n",
              "      <td>1</td>\n",
              "      <td>1</td>\n",
              "    </tr>\n",
              "  </tbody>\n",
              "</table>\n",
              "</div>\n",
              "      <button class=\"colab-df-convert\" onclick=\"convertToInteractive('df-3f7fbd2d-6422-47ea-bb30-da47b6f4aeaa')\"\n",
              "              title=\"Convert this dataframe to an interactive table.\"\n",
              "              style=\"display:none;\">\n",
              "        \n",
              "  <svg xmlns=\"http://www.w3.org/2000/svg\" height=\"24px\"viewBox=\"0 0 24 24\"\n",
              "       width=\"24px\">\n",
              "    <path d=\"M0 0h24v24H0V0z\" fill=\"none\"/>\n",
              "    <path d=\"M18.56 5.44l.94 2.06.94-2.06 2.06-.94-2.06-.94-.94-2.06-.94 2.06-2.06.94zm-11 1L8.5 8.5l.94-2.06 2.06-.94-2.06-.94L8.5 2.5l-.94 2.06-2.06.94zm10 10l.94 2.06.94-2.06 2.06-.94-2.06-.94-.94-2.06-.94 2.06-2.06.94z\"/><path d=\"M17.41 7.96l-1.37-1.37c-.4-.4-.92-.59-1.43-.59-.52 0-1.04.2-1.43.59L10.3 9.45l-7.72 7.72c-.78.78-.78 2.05 0 2.83L4 21.41c.39.39.9.59 1.41.59.51 0 1.02-.2 1.41-.59l7.78-7.78 2.81-2.81c.8-.78.8-2.07 0-2.86zM5.41 20L4 18.59l7.72-7.72 1.47 1.35L5.41 20z\"/>\n",
              "  </svg>\n",
              "      </button>\n",
              "      \n",
              "  <style>\n",
              "    .colab-df-container {\n",
              "      display:flex;\n",
              "      flex-wrap:wrap;\n",
              "      gap: 12px;\n",
              "    }\n",
              "\n",
              "    .colab-df-convert {\n",
              "      background-color: #E8F0FE;\n",
              "      border: none;\n",
              "      border-radius: 50%;\n",
              "      cursor: pointer;\n",
              "      display: none;\n",
              "      fill: #1967D2;\n",
              "      height: 32px;\n",
              "      padding: 0 0 0 0;\n",
              "      width: 32px;\n",
              "    }\n",
              "\n",
              "    .colab-df-convert:hover {\n",
              "      background-color: #E2EBFA;\n",
              "      box-shadow: 0px 1px 2px rgba(60, 64, 67, 0.3), 0px 1px 3px 1px rgba(60, 64, 67, 0.15);\n",
              "      fill: #174EA6;\n",
              "    }\n",
              "\n",
              "    [theme=dark] .colab-df-convert {\n",
              "      background-color: #3B4455;\n",
              "      fill: #D2E3FC;\n",
              "    }\n",
              "\n",
              "    [theme=dark] .colab-df-convert:hover {\n",
              "      background-color: #434B5C;\n",
              "      box-shadow: 0px 1px 3px 1px rgba(0, 0, 0, 0.15);\n",
              "      filter: drop-shadow(0px 1px 2px rgba(0, 0, 0, 0.3));\n",
              "      fill: #FFFFFF;\n",
              "    }\n",
              "  </style>\n",
              "\n",
              "      <script>\n",
              "        const buttonEl =\n",
              "          document.querySelector('#df-3f7fbd2d-6422-47ea-bb30-da47b6f4aeaa button.colab-df-convert');\n",
              "        buttonEl.style.display =\n",
              "          google.colab.kernel.accessAllowed ? 'block' : 'none';\n",
              "\n",
              "        async function convertToInteractive(key) {\n",
              "          const element = document.querySelector('#df-3f7fbd2d-6422-47ea-bb30-da47b6f4aeaa');\n",
              "          const dataTable =\n",
              "            await google.colab.kernel.invokeFunction('convertToInteractive',\n",
              "                                                     [key], {});\n",
              "          if (!dataTable) return;\n",
              "\n",
              "          const docLinkHtml = 'Like what you see? Visit the ' +\n",
              "            '<a target=\"_blank\" href=https://colab.research.google.com/notebooks/data_table.ipynb>data table notebook</a>'\n",
              "            + ' to learn more about interactive tables.';\n",
              "          element.innerHTML = '';\n",
              "          dataTable['output_type'] = 'display_data';\n",
              "          await google.colab.output.renderOutput(dataTable, element);\n",
              "          const docLink = document.createElement('div');\n",
              "          docLink.innerHTML = docLinkHtml;\n",
              "          element.appendChild(docLink);\n",
              "        }\n",
              "      </script>\n",
              "    </div>\n",
              "  </div>\n",
              "  "
            ]
          },
          "metadata": {},
          "execution_count": 14
        }
      ]
    },
    {
      "cell_type": "markdown",
      "source": [
        "#### **데이터 전처리**\n"
      ],
      "metadata": {
        "id": "MlsHJ8ig18vW"
      }
    },
    {
      "cell_type": "markdown",
      "source": [
        "- aluminium(알루미늄) : 2.8 이상이면 위험하다\n",
        "- ammonia(암모니아) : 32.5 이상이면 위험하다\n",
        "- arsenic(비소) : 0.01 이상이면 위험하다\n",
        "- barium(바륨) : 2 이상이면 위험하다\n",
        "- cadmium(카드뮴) : 0.005 이상이면 위험하다\n",
        "- chloramine(클로라민) : 4 이상이면 위험하다\n",
        "- chromium(크로뮴) : 0.1 이상이면 위험하다\n",
        "- copper(구리) : 1.3 이상이면 위험하다\n",
        "- flouride(플루오린화물) : 1.5 이상이면 위험하다\n",
        "- bacteria(박테리아) : 0 이상이면 위험하다\n",
        "- viruses(바이러스) : 0 이상이면 위험하다\n",
        "- lead(납) : 0.015 이상이면 위험하다\n",
        "- nitrates(질산염) : 10 이상이면 위험하다\n",
        "- nitrites(아질산염) : 1 이상이면 위험하다\n",
        "- mercury(수은) : 0.002 이상이면 위험하다\n",
        "- perchlorate(과염소산염) : 56 이상이면 위험하다\n",
        "- radium(라듐) : 5 이상이면 위험하다\n",
        "- selenium(셀레늄) : 0.5 이상이면 위험하다\n",
        "- silver(은) : 0.1 이상이면 위험하다\n",
        "- uranium(우라늄) : 0.3 이상이면 위험하다\n",
        "- is_safe : 0-not safe, 1-safe"
      ],
      "metadata": {
        "id": "2suSVXOGUa-i"
      }
    },
    {
      "cell_type": "code",
      "source": [
        "df.info()"
      ],
      "metadata": {
        "colab": {
          "base_uri": "https://localhost:8080/"
        },
        "id": "_3CP78LZ3vRt",
        "outputId": "76b788c8-03fc-4ed5-a0c6-c0dd63f2b919"
      },
      "execution_count": 15,
      "outputs": [
        {
          "output_type": "stream",
          "name": "stdout",
          "text": [
            "<class 'pandas.core.frame.DataFrame'>\n",
            "RangeIndex: 7999 entries, 0 to 7998\n",
            "Data columns (total 21 columns):\n",
            " #   Column       Non-Null Count  Dtype  \n",
            "---  ------       --------------  -----  \n",
            " 0   aluminium    7999 non-null   float64\n",
            " 1   ammonia      7999 non-null   object \n",
            " 2   arsenic      7999 non-null   float64\n",
            " 3   barium       7999 non-null   float64\n",
            " 4   cadmium      7999 non-null   float64\n",
            " 5   chloramine   7999 non-null   float64\n",
            " 6   chromium     7999 non-null   float64\n",
            " 7   copper       7999 non-null   float64\n",
            " 8   flouride     7999 non-null   float64\n",
            " 9   bacteria     7999 non-null   float64\n",
            " 10  viruses      7999 non-null   float64\n",
            " 11  lead         7999 non-null   float64\n",
            " 12  nitrates     7999 non-null   float64\n",
            " 13  nitrites     7999 non-null   float64\n",
            " 14  mercury      7999 non-null   float64\n",
            " 15  perchlorate  7999 non-null   float64\n",
            " 16  radium       7999 non-null   float64\n",
            " 17  selenium     7999 non-null   float64\n",
            " 18  silver       7999 non-null   float64\n",
            " 19  uranium      7999 non-null   float64\n",
            " 20  is_safe      7999 non-null   object \n",
            "dtypes: float64(19), object(2)\n",
            "memory usage: 1.3+ MB\n"
          ]
        }
      ]
    },
    {
      "cell_type": "code",
      "source": [
        "df.ammonia= df['ammonia'].replace('#NUM!', np.nan)\n",
        "df.ammonia= df['ammonia'].astype('float')\n",
        "df.is_safe= df['is_safe'].replace('#NUM!', np.nan)\n",
        "df.is_safe= df['is_safe'].astype('float')\n",
        "df.dtypes"
      ],
      "metadata": {
        "colab": {
          "base_uri": "https://localhost:8080/"
        },
        "id": "keLr40Yv5YTf",
        "outputId": "f5048c86-0a0c-4d79-9ea1-3ef5f622f1f1"
      },
      "execution_count": 16,
      "outputs": [
        {
          "output_type": "execute_result",
          "data": {
            "text/plain": [
              "aluminium      float64\n",
              "ammonia        float64\n",
              "arsenic        float64\n",
              "barium         float64\n",
              "cadmium        float64\n",
              "chloramine     float64\n",
              "chromium       float64\n",
              "copper         float64\n",
              "flouride       float64\n",
              "bacteria       float64\n",
              "viruses        float64\n",
              "lead           float64\n",
              "nitrates       float64\n",
              "nitrites       float64\n",
              "mercury        float64\n",
              "perchlorate    float64\n",
              "radium         float64\n",
              "selenium       float64\n",
              "silver         float64\n",
              "uranium        float64\n",
              "is_safe        float64\n",
              "dtype: object"
            ]
          },
          "metadata": {},
          "execution_count": 16
        }
      ]
    },
    {
      "cell_type": "code",
      "source": [
        "df.shape"
      ],
      "metadata": {
        "colab": {
          "base_uri": "https://localhost:8080/"
        },
        "id": "Og4T4wxFHgZj",
        "outputId": "622f4a78-2e43-41af-e8b8-d5fc8e338854"
      },
      "execution_count": 17,
      "outputs": [
        {
          "output_type": "execute_result",
          "data": {
            "text/plain": [
              "(7999, 21)"
            ]
          },
          "metadata": {},
          "execution_count": 17
        }
      ]
    },
    {
      "cell_type": "code",
      "source": [
        "df.isnull().sum()"
      ],
      "metadata": {
        "colab": {
          "base_uri": "https://localhost:8080/"
        },
        "id": "pQC57zAD3vO5",
        "outputId": "dfe68dc3-f038-4bfe-a54e-bc04addd6fd7"
      },
      "execution_count": 18,
      "outputs": [
        {
          "output_type": "execute_result",
          "data": {
            "text/plain": [
              "aluminium      0\n",
              "ammonia        3\n",
              "arsenic        0\n",
              "barium         0\n",
              "cadmium        0\n",
              "chloramine     0\n",
              "chromium       0\n",
              "copper         0\n",
              "flouride       0\n",
              "bacteria       0\n",
              "viruses        0\n",
              "lead           0\n",
              "nitrates       0\n",
              "nitrites       0\n",
              "mercury        0\n",
              "perchlorate    0\n",
              "radium         0\n",
              "selenium       0\n",
              "silver         0\n",
              "uranium        0\n",
              "is_safe        3\n",
              "dtype: int64"
            ]
          },
          "metadata": {},
          "execution_count": 18
        }
      ]
    },
    {
      "cell_type": "code",
      "source": [
        "df= df.dropna(axis=0)\n",
        "df.shape"
      ],
      "metadata": {
        "colab": {
          "base_uri": "https://localhost:8080/"
        },
        "id": "nubCV3H4HN1T",
        "outputId": "eda20802-6b0c-45bc-e4b2-beeb965c0320"
      },
      "execution_count": 19,
      "outputs": [
        {
          "output_type": "execute_result",
          "data": {
            "text/plain": [
              "(7996, 21)"
            ]
          },
          "metadata": {},
          "execution_count": 19
        }
      ]
    },
    {
      "cell_type": "code",
      "source": [
        "df.duplicated().sum()"
      ],
      "metadata": {
        "colab": {
          "base_uri": "https://localhost:8080/"
        },
        "id": "Li1IA6q35tzL",
        "outputId": "20046d98-28b2-4e40-962a-bcc139cc3a8c"
      },
      "execution_count": 20,
      "outputs": [
        {
          "output_type": "execute_result",
          "data": {
            "text/plain": [
              "0"
            ]
          },
          "metadata": {},
          "execution_count": 20
        }
      ]
    },
    {
      "cell_type": "markdown",
      "source": [
        "#### **EDA**"
      ],
      "metadata": {
        "id": "JiSIRTG8cJ0g"
      }
    },
    {
      "cell_type": "code",
      "source": [
        "plt.figure(figsize=(14,10))\n",
        "sns.heatmap(df.corr(), annot=True, fmt='.2f')"
      ],
      "metadata": {
        "colab": {
          "base_uri": "https://localhost:8080/",
          "height": 661
        },
        "id": "d-9vjxDpTSNq",
        "outputId": "812ce98f-1608-4b7c-efc0-86b6fa50bb8b"
      },
      "execution_count": 21,
      "outputs": [
        {
          "output_type": "execute_result",
          "data": {
            "text/plain": [
              "<matplotlib.axes._subplots.AxesSubplot at 0x7f33c5190d00>"
            ]
          },
          "metadata": {},
          "execution_count": 21
        },
        {
          "output_type": "display_data",
          "data": {
            "text/plain": [
              "<Figure size 1008x720 with 2 Axes>"
            ],
            "image/png": "[encoded data removed]"
          },
          "metadata": {
            "needs_background": "light"
          }
        }
      ]
    },
    {
      "cell_type": "markdown",
      "source": [
        "과염소산염(perchlorate)과 클로라민(chloramine)의 상관관계가 0.59로 가장 높은 상관관계를 가지고 있다."
      ],
      "metadata": {
        "id": "2jJvyFBjGefj"
      }
    },
    {
      "cell_type": "code",
      "source": [
        "df.describe()"
      ],
      "metadata": {
        "id": "e9lxWoc86I5f",
        "colab": {
          "base_uri": "https://localhost:8080/",
          "height": 394
        },
        "outputId": "83673b0b-5123-41b3-e3fd-7c58a77d799c"
      },
      "execution_count": 22,
      "outputs": [
        {
          "output_type": "execute_result",
          "data": {
            "text/plain": [
              "         aluminium      ammonia      arsenic       barium      cadmium  \\\n",
              "count  7996.000000  7996.000000  7996.000000  7996.000000  7996.000000   \n",
              "mean      0.666396    14.278212     0.161477     1.567928     0.042803   \n",
              "std       1.265323     8.878930     0.252632     1.216227     0.036049   \n",
              "min       0.000000    -0.080000     0.000000     0.000000     0.000000   \n",
              "25%       0.040000     6.577500     0.030000     0.560000     0.008000   \n",
              "50%       0.070000    14.130000     0.050000     1.190000     0.040000   \n",
              "75%       0.280000    22.132500     0.100000     2.482500     0.070000   \n",
              "max       5.050000    29.840000     1.050000     4.940000     0.130000   \n",
              "\n",
              "        chloramine     chromium       copper     flouride     bacteria  ...  \\\n",
              "count  7996.000000  7996.000000  7996.000000  7996.000000  7996.000000  ...   \n",
              "mean      2.177589     0.247300     0.805940     0.771646     0.319714  ...   \n",
              "std       2.567210     0.270663     0.653595     0.435423     0.329497  ...   \n",
              "min       0.000000     0.000000     0.000000     0.000000     0.000000  ...   \n",
              "25%       0.100000     0.050000     0.090000     0.407500     0.000000  ...   \n",
              "50%       0.530000     0.090000     0.750000     0.770000     0.220000  ...   \n",
              "75%       4.240000     0.440000     1.390000     1.160000     0.610000  ...   \n",
              "max       8.680000     0.900000     2.000000     1.500000     1.000000  ...   \n",
              "\n",
              "              lead     nitrates     nitrites      mercury  perchlorate  \\\n",
              "count  7996.000000  7996.000000  7996.000000  7996.000000  7996.000000   \n",
              "mean      0.099431     9.819250     1.329846     0.005193    16.465266   \n",
              "std       0.058169     5.541977     0.573271     0.002967    17.688827   \n",
              "min       0.000000     0.000000     0.000000     0.000000     0.000000   \n",
              "25%       0.048000     5.000000     1.000000     0.003000     2.170000   \n",
              "50%       0.102000     9.930000     1.420000     0.005000     7.745000   \n",
              "75%       0.151000    14.610000     1.760000     0.008000    29.487500   \n",
              "max       0.200000    19.830000     2.930000     0.010000    60.010000   \n",
              "\n",
              "            radium     selenium       silver      uranium      is_safe  \n",
              "count  7996.000000  7996.000000  7996.000000  7996.000000  7996.000000  \n",
              "mean      2.920106     0.049684     0.147811     0.044672     0.114057  \n",
              "std       2.322805     0.028773     0.143569     0.026906     0.317900  \n",
              "min       0.000000     0.000000     0.000000     0.000000     0.000000  \n",
              "25%       0.820000     0.020000     0.040000     0.020000     0.000000  \n",
              "50%       2.410000     0.050000     0.080000     0.050000     0.000000  \n",
              "75%       4.670000     0.070000     0.240000     0.070000     0.000000  \n",
              "max       7.990000     0.100000     0.500000     0.090000     1.000000  \n",
              "\n",
              "[8 rows x 21 columns]"
            ],
            "text/html": [
              "\n",
              "  <div id=\"df-059c606d-70ac-4388-8d31-433e5c3faecf\">\n",
              "    <div class=\"colab-df-container\">\n",
              "      <div>\n",
              "<style scoped>\n",
              "    .dataframe tbody tr th:only-of-type {\n",
              "        vertical-align: middle;\n",
              "    }\n",
              "\n",
              "    .dataframe tbody tr th {\n",
              "        vertical-align: top;\n",
              "    }\n",
              "\n",
              "    .dataframe thead th {\n",
              "        text-align: right;\n",
              "    }\n",
              "</style>\n",
              "<table border=\"1\" class=\"dataframe\">\n",
              "  <thead>\n",
              "    <tr style=\"text-align: right;\">\n",
              "      <th></th>\n",
              "      <th>aluminium</th>\n",
              "      <th>ammonia</th>\n",
              "      <th>arsenic</th>\n",
              "      <th>barium</th>\n",
              "      <th>cadmium</th>\n",
              "      <th>chloramine</th>\n",
              "      <th>chromium</th>\n",
              "      <th>copper</th>\n",
              "      <th>flouride</th>\n",
              "      <th>bacteria</th>\n",
              "      <th>...</th>\n",
              "      <th>lead</th>\n",
              "      <th>nitrates</th>\n",
              "      <th>nitrites</th>\n",
              "      <th>mercury</th>\n",
              "      <th>perchlorate</th>\n",
              "      <th>radium</th>\n",
              "      <th>selenium</th>\n",
              "      <th>silver</th>\n",
              "      <th>uranium</th>\n",
              "      <th>is_safe</th>\n",
              "    </tr>\n",
              "  </thead>\n",
              "  <tbody>\n",
              "    <tr>\n",
              "      <th>count</th>\n",
              "      <td>7996.000000</td>\n",
              "      <td>7996.000000</td>\n",
              "      <td>7996.000000</td>\n",
              "      <td>7996.000000</td>\n",
              "      <td>7996.000000</td>\n",
              "      <td>7996.000000</td>\n",
              "      <td>7996.000000</td>\n",
              "      <td>7996.000000</td>\n",
              "      <td>7996.000000</td>\n",
              "      <td>7996.000000</td>\n",
              "      <td>...</td>\n",
              "      <td>7996.000000</td>\n",
              "      <td>7996.000000</td>\n",
              "      <td>7996.000000</td>\n",
              "      <td>7996.000000</td>\n",
              "      <td>7996.000000</td>\n",
              "      <td>7996.000000</td>\n",
              "      <td>7996.000000</td>\n",
              "      <td>7996.000000</td>\n",
              "      <td>7996.000000</td>\n",
              "      <td>7996.000000</td>\n",
              "    </tr>\n",
              "    <tr>\n",
              "      <th>mean</th>\n",
              "      <td>0.666396</td>\n",
              "      <td>14.278212</td>\n",
              "      <td>0.161477</td>\n",
              "      <td>1.567928</td>\n",
              "      <td>0.042803</td>\n",
              "      <td>2.177589</td>\n",
              "      <td>0.247300</td>\n",
              "      <td>0.805940</td>\n",
              "      <td>0.771646</td>\n",
              "      <td>0.319714</td>\n",
              "      <td>...</td>\n",
              "      <td>0.099431</td>\n",
              "      <td>9.819250</td>\n",
              "      <td>1.329846</td>\n",
              "      <td>0.005193</td>\n",
              "      <td>16.465266</td>\n",
              "      <td>2.920106</td>\n",
              "      <td>0.049684</td>\n",
              "      <td>0.147811</td>\n",
              "      <td>0.044672</td>\n",
              "      <td>0.114057</td>\n",
              "    </tr>\n",
              "    <tr>\n",
              "      <th>std</th>\n",
              "      <td>1.265323</td>\n",
              "      <td>8.878930</td>\n",
              "      <td>0.252632</td>\n",
              "      <td>1.216227</td>\n",
              "      <td>0.036049</td>\n",
              "      <td>2.567210</td>\n",
              "      <td>0.270663</td>\n",
              "      <td>0.653595</td>\n",
              "      <td>0.435423</td>\n",
              "      <td>0.329497</td>\n",
              "      <td>...</td>\n",
              "      <td>0.058169</td>\n",
              "      <td>5.541977</td>\n",
              "      <td>0.573271</td>\n",
              "      <td>0.002967</td>\n",
              "      <td>17.688827</td>\n",
              "      <td>2.322805</td>\n",
              "      <td>0.028773</td>\n",
              "      <td>0.143569</td>\n",
              "      <td>0.026906</td>\n",
              "      <td>0.317900</td>\n",
              "    </tr>\n",
              "    <tr>\n",
              "      <th>min</th>\n",
              "      <td>0.000000</td>\n",
              "      <td>-0.080000</td>\n",
              "      <td>0.000000</td>\n",
              "      <td>0.000000</td>\n",
              "      <td>0.000000</td>\n",
              "      <td>0.000000</td>\n",
              "      <td>0.000000</td>\n",
              "      <td>0.000000</td>\n",
              "      <td>0.000000</td>\n",
              "      <td>0.000000</td>\n",
              "      <td>...</td>\n",
              "      <td>0.000000</td>\n",
              "      <td>0.000000</td>\n",
              "      <td>0.000000</td>\n",
              "      <td>0.000000</td>\n",
              "      <td>0.000000</td>\n",
              "      <td>0.000000</td>\n",
              "      <td>0.000000</td>\n",
              "      <td>0.000000</td>\n",
              "      <td>0.000000</td>\n",
              "      <td>0.000000</td>\n",
              "    </tr>\n",
              "    <tr>\n",
              "      <th>25%</th>\n",
              "      <td>0.040000</td>\n",
              "      <td>6.577500</td>\n",
              "      <td>0.030000</td>\n",
              "      <td>0.560000</td>\n",
              "      <td>0.008000</td>\n",
              "      <td>0.100000</td>\n",
              "      <td>0.050000</td>\n",
              "      <td>0.090000</td>\n",
              "      <td>0.407500</td>\n",
              "      <td>0.000000</td>\n",
              "      <td>...</td>\n",
              "      <td>0.048000</td>\n",
              "      <td>5.000000</td>\n",
              "      <td>1.000000</td>\n",
              "      <td>0.003000</td>\n",
              "      <td>2.170000</td>\n",
              "      <td>0.820000</td>\n",
              "      <td>0.020000</td>\n",
              "      <td>0.040000</td>\n",
              "      <td>0.020000</td>\n",
              "      <td>0.000000</td>\n",
              "    </tr>\n",
              "    <tr>\n",
              "      <th>50%</th>\n",
              "      <td>0.070000</td>\n",
              "      <td>14.130000</td>\n",
              "      <td>0.050000</td>\n",
              "      <td>1.190000</td>\n",
              "      <td>0.040000</td>\n",
              "      <td>0.530000</td>\n",
              "      <td>0.090000</td>\n",
              "      <td>0.750000</td>\n",
              "      <td>0.770000</td>\n",
              "      <td>0.220000</td>\n",
              "      <td>...</td>\n",
              "      <td>0.102000</td>\n",
              "      <td>9.930000</td>\n",
              "      <td>1.420000</td>\n",
              "      <td>0.005000</td>\n",
              "      <td>7.745000</td>\n",
              "      <td>2.410000</td>\n",
              "      <td>0.050000</td>\n",
              "      <td>0.080000</td>\n",
              "      <td>0.050000</td>\n",
              "      <td>0.000000</td>\n",
              "    </tr>\n",
              "    <tr>\n",
              "      <th>75%</th>\n",
              "      <td>0.280000</td>\n",
              "      <td>22.132500</td>\n",
              "      <td>0.100000</td>\n",
              "      <td>2.482500</td>\n",
              "      <td>0.070000</td>\n",
              "      <td>4.240000</td>\n",
              "      <td>0.440000</td>\n",
              "      <td>1.390000</td>\n",
              "      <td>1.160000</td>\n",
              "      <td>0.610000</td>\n",
              "      <td>...</td>\n",
              "      <td>0.151000</td>\n",
              "      <td>14.610000</td>\n",
              "      <td>1.760000</td>\n",
              "      <td>0.008000</td>\n",
              "      <td>29.487500</td>\n",
              "      <td>4.670000</td>\n",
              "      <td>0.070000</td>\n",
              "      <td>0.240000</td>\n",
              "      <td>0.070000</td>\n",
              "      <td>0.000000</td>\n",
              "    </tr>\n",
              "    <tr>\n",
              "      <th>max</th>\n",
              "      <td>5.050000</td>\n",
              "      <td>29.840000</td>\n",
              "      <td>1.050000</td>\n",
              "      <td>4.940000</td>\n",
              "      <td>0.130000</td>\n",
              "      <td>8.680000</td>\n",
              "      <td>0.900000</td>\n",
              "      <td>2.000000</td>\n",
              "      <td>1.500000</td>\n",
              "      <td>1.000000</td>\n",
              "      <td>...</td>\n",
              "      <td>0.200000</td>\n",
              "      <td>19.830000</td>\n",
              "      <td>2.930000</td>\n",
              "      <td>0.010000</td>\n",
              "      <td>60.010000</td>\n",
              "      <td>7.990000</td>\n",
              "      <td>0.100000</td>\n",
              "      <td>0.500000</td>\n",
              "      <td>0.090000</td>\n",
              "      <td>1.000000</td>\n",
              "    </tr>\n",
              "  </tbody>\n",
              "</table>\n",
              "<p>8 rows × 21 columns</p>\n",
              "</div>\n",
              "      <button class=\"colab-df-convert\" onclick=\"convertToInteractive('df-059c606d-70ac-4388-8d31-433e5c3faecf')\"\n",
              "              title=\"Convert this dataframe to an interactive table.\"\n",
              "              style=\"display:none;\">\n",
              "        \n",
              "  <svg xmlns=\"http://www.w3.org/2000/svg\" height=\"24px\"viewBox=\"0 0 24 24\"\n",
              "       width=\"24px\">\n",
              "    <path d=\"M0 0h24v24H0V0z\" fill=\"none\"/>\n",
              "    <path d=\"M18.56 5.44l.94 2.06.94-2.06 2.06-.94-2.06-.94-.94-2.06-.94 2.06-2.06.94zm-11 1L8.5 8.5l.94-2.06 2.06-.94-2.06-.94L8.5 2.5l-.94 2.06-2.06.94zm10 10l.94 2.06.94-2.06 2.06-.94-2.06-.94-.94-2.06-.94 2.06-2.06.94z\"/><path d=\"M17.41 7.96l-1.37-1.37c-.4-.4-.92-.59-1.43-.59-.52 0-1.04.2-1.43.59L10.3 9.45l-7.72 7.72c-.78.78-.78 2.05 0 2.83L4 21.41c.39.39.9.59 1.41.59.51 0 1.02-.2 1.41-.59l7.78-7.78 2.81-2.81c.8-.78.8-2.07 0-2.86zM5.41 20L4 18.59l7.72-7.72 1.47 1.35L5.41 20z\"/>\n",
              "  </svg>\n",
              "      </button>\n",
              "      \n",
              "  <style>\n",
              "    .colab-df-container {\n",
              "      display:flex;\n",
              "      flex-wrap:wrap;\n",
              "      gap: 12px;\n",
              "    }\n",
              "\n",
              "    .colab-df-convert {\n",
              "      background-color: #E8F0FE;\n",
              "      border: none;\n",
              "      border-radius: 50%;\n",
              "      cursor: pointer;\n",
              "      display: none;\n",
              "      fill: #1967D2;\n",
              "      height: 32px;\n",
              "      padding: 0 0 0 0;\n",
              "      width: 32px;\n",
              "    }\n",
              "\n",
              "    .colab-df-convert:hover {\n",
              "      background-color: #E2EBFA;\n",
              "      box-shadow: 0px 1px 2px rgba(60, 64, 67, 0.3), 0px 1px 3px 1px rgba(60, 64, 67, 0.15);\n",
              "      fill: #174EA6;\n",
              "    }\n",
              "\n",
              "    [theme=dark] .colab-df-convert {\n",
              "      background-color: #3B4455;\n",
              "      fill: #D2E3FC;\n",
              "    }\n",
              "\n",
              "    [theme=dark] .colab-df-convert:hover {\n",
              "      background-color: #434B5C;\n",
              "      box-shadow: 0px 1px 3px 1px rgba(0, 0, 0, 0.15);\n",
              "      filter: drop-shadow(0px 1px 2px rgba(0, 0, 0, 0.3));\n",
              "      fill: #FFFFFF;\n",
              "    }\n",
              "  </style>\n",
              "\n",
              "      <script>\n",
              "        const buttonEl =\n",
              "          document.querySelector('#df-059c606d-70ac-4388-8d31-433e5c3faecf button.colab-df-convert');\n",
              "        buttonEl.style.display =\n",
              "          google.colab.kernel.accessAllowed ? 'block' : 'none';\n",
              "\n",
              "        async function convertToInteractive(key) {\n",
              "          const element = document.querySelector('#df-059c606d-70ac-4388-8d31-433e5c3faecf');\n",
              "          const dataTable =\n",
              "            await google.colab.kernel.invokeFunction('convertToInteractive',\n",
              "                                                     [key], {});\n",
              "          if (!dataTable) return;\n",
              "\n",
              "          const docLinkHtml = 'Like what you see? Visit the ' +\n",
              "            '<a target=\"_blank\" href=https://colab.research.google.com/notebooks/data_table.ipynb>data table notebook</a>'\n",
              "            + ' to learn more about interactive tables.';\n",
              "          element.innerHTML = '';\n",
              "          dataTable['output_type'] = 'display_data';\n",
              "          await google.colab.output.renderOutput(dataTable, element);\n",
              "          const docLink = document.createElement('div');\n",
              "          docLink.innerHTML = docLinkHtml;\n",
              "          element.appendChild(docLink);\n",
              "        }\n",
              "      </script>\n",
              "    </div>\n",
              "  </div>\n",
              "  "
            ]
          },
          "metadata": {},
          "execution_count": 22
        }
      ]
    },
    {
      "cell_type": "code",
      "source": [
        "y= df['is_safe']\n",
        "print(\"타겟 데이터의 비율 \\n\", y.value_counts(normalize=True))   #타겟데이터 범주의 비율\n",
        "##is_safe=0: not safe, is_safe=1: safe\n",
        "\n",
        "%matplotlib inline\n",
        "sns.countplot(x=y)"
      ],
      "metadata": {
        "colab": {
          "base_uri": "https://localhost:8080/",
          "height": 372
        },
        "id": "ir-2AoDj_SOn",
        "outputId": "da1ed0a7-3339-458c-9d0b-c8658fc2d481"
      },
      "execution_count": 23,
      "outputs": [
        {
          "output_type": "stream",
          "name": "stdout",
          "text": [
            "타겟 데이터의 비율 \n",
            " 0.0    0.885943\n",
            "1.0    0.114057\n",
            "Name: is_safe, dtype: float64\n"
          ]
        },
        {
          "output_type": "execute_result",
          "data": {
            "text/plain": [
              "<matplotlib.axes._subplots.AxesSubplot at 0x7f33c407ae80>"
            ]
          },
          "metadata": {},
          "execution_count": 23
        },
        {
          "output_type": "display_data",
          "data": {
            "text/plain": [
              "<Figure size 432x288 with 1 Axes>"
            ],
            "image/png": "[encoded data removed]"
          },
          "metadata": {
            "needs_background": "light"
          }
        }
      ]
    },
    {
      "cell_type": "markdown",
      "source": [
        "#### **Modeling**"
      ],
      "metadata": {
        "id": "GvYg9wlKMOo6"
      }
    },
    {
      "cell_type": "markdown",
      "source": [
        "- **훈련, 검증, 테스트 데이터셋 분리**"
      ],
      "metadata": {
        "id": "pjByE9ZwPiZp"
      }
    },
    {
      "cell_type": "code",
      "source": [
        "from sklearn.model_selection import train_test_split\n",
        "\n",
        "target='is_safe'\n",
        "X= df.drop(target, axis=1)\n",
        "y= df[target]\n",
        "\n",
        "X_train, X_test, y_train, y_test= train_test_split(X, y, test_size= 0.2, random_state=42, stratify= y)\n",
        "X_train, X_val, y_train, y_val= train_test_split(X_train, y_train, test_size= 0.2, random_state=42, stratify= y_train)\n",
        "\n",
        "print(X_train.shape, y_train.shape, X_val.shape, y_val.shape, X_test.shape, y_test.shape)"
      ],
      "metadata": {
        "colab": {
          "base_uri": "https://localhost:8080/"
        },
        "id": "6lexxJJ7OJlP",
        "outputId": "0c9f9fbf-7781-4421-9582-0d46f2cd1704"
      },
      "execution_count": 24,
      "outputs": [
        {
          "output_type": "stream",
          "name": "stdout",
          "text": [
            "(5116, 20) (5116,) (1280, 20) (1280,) (1600, 20) (1600,)\n"
          ]
        }
      ]
    },
    {
      "cell_type": "code",
      "source": [
        "y_train.value_counts(normalize=True)"
      ],
      "metadata": {
        "colab": {
          "base_uri": "https://localhost:8080/"
        },
        "id": "6GU7wxOAAUI_",
        "outputId": "2e36271e-6142-4e09-98c0-bb186c6c7ee3"
      },
      "execution_count": 25,
      "outputs": [
        {
          "output_type": "execute_result",
          "data": {
            "text/plain": [
              "0.0    0.885848\n",
              "1.0    0.114152\n",
              "Name: is_safe, dtype: float64"
            ]
          },
          "metadata": {},
          "execution_count": 25
        }
      ]
    },
    {
      "cell_type": "markdown",
      "source": [
        "- **scaling**"
      ],
      "metadata": {
        "id": "j40Bw-vor7Yf"
      }
    },
    {
      "cell_type": "code",
      "source": [
        "from sklearn.preprocessing import StandardScaler\n",
        "numeric= X_train.dtypes[X_train.dtypes != \"object\"].index\n",
        "\n",
        "scaler= StandardScaler()\n",
        "X_train[numeric]= scaler.fit_transform(X_train[numeric])\n",
        "X_val[numeric]= scaler.transform(X_val[numeric])\n",
        "X_test[numeric]= scaler.transform(X_test[numeric])"
      ],
      "metadata": {
        "id": "Zr4b2fcwr82Q"
      },
      "execution_count": 26,
      "outputs": []
    },
    {
      "cell_type": "markdown",
      "source": [
        "- **기준모델 (baseline model)**"
      ],
      "metadata": {
        "id": "dJo8ZEDNS45C"
      }
    },
    {
      "cell_type": "code",
      "source": [
        "baseline= y_train.mode()[0]\n",
        "y_pred_base= [baseline] * len(y_train)\n",
        "y_pred_base_val= [baseline] * len(y_val)"
      ],
      "metadata": {
        "id": "FQhgkhlDS7R-"
      },
      "execution_count": 27,
      "outputs": []
    },
    {
      "cell_type": "code",
      "source": [
        "#기준모델에서의 정확도(Accuracy)\n",
        "from sklearn.metrics import accuracy_score\n",
        "\n",
        "print(\"training accuracy:\", accuracy_score(y_train, y_pred_base))\n",
        "print(\"validation accuracy:\", accuracy_score(y_val, y_pred_base_val))"
      ],
      "metadata": {
        "colab": {
          "base_uri": "https://localhost:8080/"
        },
        "id": "JZVg_PeKXIGy",
        "outputId": "036d40fc-752e-48e0-9e06-bed3bfcc9a68"
      },
      "execution_count": 28,
      "outputs": [
        {
          "output_type": "stream",
          "name": "stdout",
          "text": [
            "training accuracy: 0.8858483189992181\n",
            "validation accuracy: 0.8859375\n"
          ]
        }
      ]
    },
    {
      "cell_type": "code",
      "source": [
        "#기준모델에서의 Confusion Matrix\n",
        "y_true0= y_val.value_counts()[0]\n",
        "y_true1= y_val.value_counts()[1]\n",
        "fn= len(y_pred_base_val)\n",
        "base= pd.DataFrame(index=['True 0','True 1'], data={'Predicted 0':[y_true0, fn], 'Predicted1':[0, 0]})\n",
        "\n",
        "sns.heatmap(base, cmap=plt.cm.Blues, annot=True, fmt='d')\n",
        "plt.title(f'Baseline Confusion Matrix, n={len(y_val)}')"
      ],
      "metadata": {
        "colab": {
          "base_uri": "https://localhost:8080/",
          "height": 299
        },
        "id": "aZZp-7HeZIL5",
        "outputId": "ec197714-930b-4e58-842f-0ebbf3e2e359"
      },
      "execution_count": 29,
      "outputs": [
        {
          "output_type": "execute_result",
          "data": {
            "text/plain": [
              "Text(0.5, 1.0, 'Baseline Confusion Matrix, n=1280')"
            ]
          },
          "metadata": {},
          "execution_count": 29
        },
        {
          "output_type": "display_data",
          "data": {
            "text/plain": [
              "<Figure size 432x288 with 2 Axes>"
            ],
            "image/png": "[encoded data removed]"
          },
          "metadata": {
            "needs_background": "light"
          }
        }
      ]
    },
    {
      "cell_type": "markdown",
      "source": [
        "기준모델은 모든 샘플을 0으로 예측했고 물이 안전한지에 대한 예측을 하지 못했으므로, 기준모델이 좋은 예측모델이라고 할 수 없다."
      ],
      "metadata": {
        "id": "mE7E-OxDbOmj"
      }
    },
    {
      "cell_type": "markdown",
      "source": [
        "- FP : 물이 안전한데 안전하지 않다고 예측하는 것\n",
        "- FN : 물이 안전하지 않은데 안전하다고 예측하는 것\n",
        "- FN이 FP보다 더 치명적인 오류일 것이다. -> 재현율이 정밀도보다 중요하다."
      ],
      "metadata": {
        "id": "F-sPd4G4lxVz"
      }
    },
    {
      "cell_type": "code",
      "source": [
        "#기준모델의 분류 평가지표\n",
        "from sklearn.metrics import classification_report, recall_score, precision_score, f1_score\n",
        "\n",
        "print(classification_report(y_val, y_pred_base_val))\n",
        "\n",
        "accuracy_base = accuracy_score(y_val, y_pred_base_val)\n",
        "precision_base = precision_score(y_val, y_pred_base_val)\n",
        "recall_base = recall_score(y_val, y_pred_base_val)\n",
        "f1_base = f1_score(y_val, y_pred_base_val)\n",
        "\n",
        "print(f'accuracy(정확도) of baseline: {accuracy_base.round(2)}')\n",
        "print(f'precision(정밀도) of baseline: {precision_base.round(2)}')\n",
        "print(f'recall(재현율) of baseline: {recall_base.round(2)}')\n",
        "print(f'f1 score of baseline: {f1_base.round(2)}')"
      ],
      "metadata": {
        "colab": {
          "base_uri": "https://localhost:8080/"
        },
        "id": "WcjmTxIim84H",
        "outputId": "d3940cdd-cecb-4c3e-8f60-82ef642949e4"
      },
      "execution_count": 30,
      "outputs": [
        {
          "output_type": "stream",
          "name": "stdout",
          "text": [
            "              precision    recall  f1-score   support\n",
            "\n",
            "         0.0       0.89      1.00      0.94      1134\n",
            "         1.0       0.00      0.00      0.00       146\n",
            "\n",
            "    accuracy                           0.89      1280\n",
            "   macro avg       0.44      0.50      0.47      1280\n",
            "weighted avg       0.78      0.89      0.83      1280\n",
            "\n",
            "accuracy(정확도) of baseline: 0.89\n",
            "precision(정밀도) of baseline: 0.0\n",
            "recall(재현율) of baseline: 0.0\n",
            "f1 score of baseline: 0.0\n"
          ]
        },
        {
          "output_type": "stream",
          "name": "stderr",
          "text": [
            "/usr/local/lib/python3.8/dist-packages/sklearn/metrics/_classification.py:1318: UndefinedMetricWarning: Precision and F-score are ill-defined and being set to 0.0 in labels with no predicted samples. Use `zero_division` parameter to control this behavior.\n",
            "  _warn_prf(average, modifier, msg_start, len(result))\n",
            "/usr/local/lib/python3.8/dist-packages/sklearn/metrics/_classification.py:1318: UndefinedMetricWarning: Precision and F-score are ill-defined and being set to 0.0 in labels with no predicted samples. Use `zero_division` parameter to control this behavior.\n",
            "  _warn_prf(average, modifier, msg_start, len(result))\n",
            "/usr/local/lib/python3.8/dist-packages/sklearn/metrics/_classification.py:1318: UndefinedMetricWarning: Precision and F-score are ill-defined and being set to 0.0 in labels with no predicted samples. Use `zero_division` parameter to control this behavior.\n",
            "  _warn_prf(average, modifier, msg_start, len(result))\n",
            "/usr/local/lib/python3.8/dist-packages/sklearn/metrics/_classification.py:1318: UndefinedMetricWarning: Precision is ill-defined and being set to 0.0 due to no predicted samples. Use `zero_division` parameter to control this behavior.\n",
            "  _warn_prf(average, modifier, msg_start, len(result))\n"
          ]
        }
      ]
    },
    {
      "cell_type": "markdown",
      "source": [
        "- **logistic regression model**"
      ],
      "metadata": {
        "id": "1TdTue9rbAE3"
      }
    },
    {
      "cell_type": "code",
      "source": [
        "from sklearn.linear_model import LinearRegression, LogisticRegression\n",
        "\n",
        "logi= LogisticRegression(max_iter=10000, random_state=42, class_weight='balanced')\n",
        "#logi= LogisticRegression(max_iter=10000, random_state=42)\n",
        "logi.fit(X_train, y_train)\n",
        "y_val_logi_pred= logi.predict(X_val)\n",
        "\n",
        "print(\"logistic train accuracy:\", logi.score(X_train, y_train))\n",
        "print(\"logistic validation accuracy (검증 정확도):\", accuracy_score(y_val, y_val_logi_pred))"
      ],
      "metadata": {
        "colab": {
          "base_uri": "https://localhost:8080/"
        },
        "id": "lD3OsehbbAQw",
        "outputId": "e89a3c91-6eac-400d-c457-28e5a4430ed7"
      },
      "execution_count": 31,
      "outputs": [
        {
          "output_type": "stream",
          "name": "stdout",
          "text": [
            "logistic train accuracy: 0.8037529319781079\n",
            "logistic validation accuracy (검증 정확도): 0.81171875\n"
          ]
        }
      ]
    },
    {
      "cell_type": "markdown",
      "source": [
        "로지스틱 회귀모델의 예측 정확도는 기준모델의 예측 정확도보다 떨어졌다."
      ],
      "metadata": {
        "id": "IR67sn2yqSB6"
      }
    },
    {
      "cell_type": "code",
      "source": [
        "from sklearn.metrics import plot_confusion_matrix\n",
        "\n",
        "pcm= plot_confusion_matrix(logi, X_val, y_val, cmap=plt.cm.Blues)\n",
        "plt.title(f'Logistic Regression Confusion Matrix, n={len(y_val)}')"
      ],
      "metadata": {
        "colab": {
          "base_uri": "https://localhost:8080/",
          "height": 370
        },
        "id": "33DaahEzGvpO",
        "outputId": "c0e73793-838e-48ae-fa03-dd19f895b48d"
      },
      "execution_count": 32,
      "outputs": [
        {
          "output_type": "stream",
          "name": "stderr",
          "text": [
            "/usr/local/lib/python3.8/dist-packages/sklearn/utils/deprecation.py:87: FutureWarning: Function plot_confusion_matrix is deprecated; Function `plot_confusion_matrix` is deprecated in 1.0 and will be removed in 1.2. Use one of the class methods: ConfusionMatrixDisplay.from_predictions or ConfusionMatrixDisplay.from_estimator.\n",
            "  warnings.warn(msg, category=FutureWarning)\n"
          ]
        },
        {
          "output_type": "execute_result",
          "data": {
            "text/plain": [
              "Text(0.5, 1.0, 'Logistic Regression Confusion Matrix, n=1280')"
            ]
          },
          "metadata": {},
          "execution_count": 32
        },
        {
          "output_type": "display_data",
          "data": {
            "text/plain": [
              "<Figure size 432x288 with 2 Axes>"
            ],
            "image/png": "[encoded data removed]"
          },
          "metadata": {
            "needs_background": "light"
          }
        }
      ]
    },
    {
      "cell_type": "markdown",
      "source": [
        "confusion matrix를 보면 관심타겟인 1을 기준모델에서보다 많이 맞추고 있으므로, 로지스틱 회귀모델이 기준모델보다 좋은 모델이라고 할 수 있다."
      ],
      "metadata": {
        "id": "npRdoO6Bb2Sn"
      }
    },
    {
      "cell_type": "code",
      "source": [
        "print(classification_report(y_val, y_val_logi_pred))\n",
        "\n",
        "accuracy = accuracy_score(y_val, y_val_logi_pred)\n",
        "precision = precision_score(y_val, y_val_logi_pred)\n",
        "recall = recall_score(y_val, y_val_logi_pred)\n",
        "f1 = f1_score(y_val, y_val_logi_pred)\n",
        "\n",
        "print(f'accuracy(정확도) of logistic regression: {accuracy.round(2)}')\n",
        "print(f'precision(정밀도) of logistic regression: {precision.round(2)}')\n",
        "print(f'recall(재현율) of logistic regression: {recall.round(2)}')\n",
        "print(f'f1 score of logistic regression: {f1.round(2)}')"
      ],
      "metadata": {
        "colab": {
          "base_uri": "https://localhost:8080/"
        },
        "id": "B7EHh2Zga8C4",
        "outputId": "e3893dff-6fb1-491d-ae4f-bfde1535c8f1"
      },
      "execution_count": 33,
      "outputs": [
        {
          "output_type": "stream",
          "name": "stdout",
          "text": [
            "              precision    recall  f1-score   support\n",
            "\n",
            "         0.0       0.96      0.82      0.89      1134\n",
            "         1.0       0.35      0.75      0.48       146\n",
            "\n",
            "    accuracy                           0.81      1280\n",
            "   macro avg       0.66      0.79      0.68      1280\n",
            "weighted avg       0.89      0.81      0.84      1280\n",
            "\n",
            "accuracy(정확도) of logistic regression: 0.81\n",
            "precision(정밀도) of logistic regression: 0.35\n",
            "recall(재현율) of logistic regression: 0.75\n",
            "f1 score of logistic regression: 0.48\n"
          ]
        }
      ]
    },
    {
      "cell_type": "markdown",
      "source": [
        "- **재현율을 높이는 방법**"
      ],
      "metadata": {
        "id": "wiYmI7yTm1yp"
      }
    },
    {
      "cell_type": "code",
      "source": [
        "y_pred_proba= logi.predict_proba(X_val)[:,1]\n",
        "sns.displot(y_pred_proba)\n",
        "\n",
        "threshold= 0.5\n",
        "y_pred= y_pred_proba > threshold\n",
        "ax= sns.histplot(y_pred_proba)\n",
        "ax.axvline(threshold, color='r')\n",
        "\n",
        "pd.Series(y_pred).value_counts()"
      ],
      "metadata": {
        "colab": {
          "base_uri": "https://localhost:8080/",
          "height": 424
        },
        "id": "aFQa5sKkltC8",
        "outputId": "1af7a13a-b8ca-4c59-c0d1-403dad8eeeeb"
      },
      "execution_count": 34,
      "outputs": [
        {
          "output_type": "execute_result",
          "data": {
            "text/plain": [
              "False    965\n",
              "True     315\n",
              "dtype: int64"
            ]
          },
          "metadata": {},
          "execution_count": 34
        },
        {
          "output_type": "display_data",
          "data": {
            "text/plain": [
              "<Figure size 360x360 with 1 Axes>"
            ],
            "image/png": "[encoded data removed]"
          },
          "metadata": {
            "needs_background": "light"
          }
        }
      ]
    },
    {
      "cell_type": "code",
      "source": [
        "#임계값(threshold) 조정하기\n",
        "sns.displot(y_pred_proba)\n",
        "\n",
        "threshold= 0.4\n",
        "y_pred= y_pred_proba > threshold\n",
        "ax= sns.histplot(y_pred_proba)\n",
        "ax.axvline(threshold, color='r')\n",
        "\n",
        "print(classification_report(y_val, y_pred))\n",
        "\n",
        "precision_02 = precision_score(y_val, y_pred)\n",
        "recall_02 = recall_score(y_val, y_pred)\n",
        "\n",
        "print(f'precision(정밀도): {precision_02.round(2)}')\n",
        "print(f'recall(재현율): {recall_02.round(2)}')"
      ],
      "metadata": {
        "colab": {
          "base_uri": "https://localhost:8080/",
          "height": 571
        },
        "id": "qYJ8XKbLls3k",
        "outputId": "71b90e14-56b7-43a3-b6dc-19faabbad12f"
      },
      "execution_count": 35,
      "outputs": [
        {
          "output_type": "stream",
          "name": "stdout",
          "text": [
            "              precision    recall  f1-score   support\n",
            "\n",
            "         0.0       0.97      0.74      0.84      1134\n",
            "         1.0       0.29      0.85      0.44       146\n",
            "\n",
            "    accuracy                           0.75      1280\n",
            "   macro avg       0.63      0.79      0.64      1280\n",
            "weighted avg       0.90      0.75      0.79      1280\n",
            "\n",
            "precision(정밀도): 0.29\n",
            "recall(재현율): 0.85\n"
          ]
        },
        {
          "output_type": "display_data",
          "data": {
            "text/plain": [
              "<Figure size 360x360 with 1 Axes>"
            ],
            "image/png": "[encoded data removed]"
          },
          "metadata": {
            "needs_background": "light"
          }
        }
      ]
    },
    {
      "cell_type": "code",
      "source": [
        "sns.displot(y_pred_proba)\n",
        "\n",
        "threshold= 0.6\n",
        "y_pred= y_pred_proba > threshold\n",
        "ax= sns.histplot(y_pred_proba)\n",
        "ax.axvline(threshold, color='r')\n",
        "\n",
        "print(classification_report(y_val, y_pred))\n",
        "\n",
        "precision_015 = precision_score(y_val, y_pred)\n",
        "recall_015 = recall_score(y_val, y_pred)\n",
        "\n",
        "print(f'precision(정밀도): {precision_015.round(2)}')\n",
        "print(f'recall(재현율): {recall_015.round(2)}')"
      ],
      "metadata": {
        "id": "p4msqtCyuGYt",
        "colab": {
          "base_uri": "https://localhost:8080/",
          "height": 571
        },
        "outputId": "e6150369-b83a-4f93-c92c-2a1cb514430e"
      },
      "execution_count": 36,
      "outputs": [
        {
          "output_type": "stream",
          "name": "stdout",
          "text": [
            "              precision    recall  f1-score   support\n",
            "\n",
            "         0.0       0.95      0.87      0.91      1134\n",
            "         1.0       0.39      0.61      0.47       146\n",
            "\n",
            "    accuracy                           0.84      1280\n",
            "   macro avg       0.67      0.74      0.69      1280\n",
            "weighted avg       0.88      0.84      0.86      1280\n",
            "\n",
            "precision(정밀도): 0.39\n",
            "recall(재현율): 0.61\n"
          ]
        },
        {
          "output_type": "display_data",
          "data": {
            "text/plain": [
              "<Figure size 360x360 with 1 Axes>"
            ],
            "image/png": "[encoded data removed]"
          },
          "metadata": {
            "needs_background": "light"
          }
        }
      ]
    },
    {
      "cell_type": "markdown",
      "source": [
        "- **ROC curve를 이용해 최적의 임계값 찾기**\n",
        "-- TPR- FPR 이 최대가 되는 지점이 최적의 임계값이다. (TPR 최대, FPR 최소)"
      ],
      "metadata": {
        "id": "coG6j5mhDONX"
      }
    },
    {
      "cell_type": "code",
      "source": [
        "from sklearn.metrics import roc_curve\n",
        "\n",
        "# roc_curve(타겟값, prob of 1)\n",
        "\n",
        "fpr, tpr, thresholds = roc_curve(y_val, y_pred_proba)\n",
        "\n",
        "roc = pd.DataFrame({\n",
        "    'FPR(Fall-out)': fpr, \n",
        "    'TPR(Recall)': tpr, \n",
        "    'Threshold': thresholds\n",
        "})"
      ],
      "metadata": {
        "id": "S0HuT6jbGNZg"
      },
      "execution_count": 37,
      "outputs": []
    },
    {
      "cell_type": "code",
      "source": [
        "optimal_idx = np.argmax(tpr - fpr)\n",
        "optimal_threshold = thresholds[optimal_idx]\n",
        "\n",
        "print('idx:', optimal_idx, ', threshold:', optimal_threshold)\n",
        "\n",
        "optimal_fpr = roc[roc['Threshold'] == optimal_threshold]['FPR(Fall-out)']\n",
        "optimal_tpr = roc[roc['Threshold'] == optimal_threshold]['TPR(Recall)']\n",
        "\n",
        "plt.plot(fpr, tpr, label='Logistic Regression')\n",
        "\n",
        "plt.scatter(optimal_fpr, optimal_tpr, color = 'red', alpha=1, label='Optimal Threshold')\n",
        "plt.title('ROC curve')\n",
        "plt.xlabel('FPR(Fall-out)')\n",
        "plt.ylabel('TPR(Recall)')\n",
        "plt.legend();"
      ],
      "metadata": {
        "id": "7VRg9597DOad",
        "colab": {
          "base_uri": "https://localhost:8080/",
          "height": 313
        },
        "outputId": "3e4a9a9b-61a4-45a7-bc88-0cd4dfecf9a5"
      },
      "execution_count": 38,
      "outputs": [
        {
          "output_type": "stream",
          "name": "stdout",
          "text": [
            "idx: 145 , threshold: 0.45298789174896464\n"
          ]
        },
        {
          "output_type": "display_data",
          "data": {
            "text/plain": [
              "<Figure size 432x288 with 1 Axes>"
            ],
            "image/png": "[encoded data removed]"
          },
          "metadata": {
            "needs_background": "light"
          }
        }
      ]
    },
    {
      "cell_type": "code",
      "source": [
        "y_pred_optimal = y_pred_proba >= optimal_threshold\n",
        "print(classification_report(y_val, y_pred_optimal))"
      ],
      "metadata": {
        "id": "9oE5_gx7GWp9",
        "colab": {
          "base_uri": "https://localhost:8080/"
        },
        "outputId": "fb884e13-605e-4f95-939e-a39ad0439df6"
      },
      "execution_count": 39,
      "outputs": [
        {
          "output_type": "stream",
          "name": "stdout",
          "text": [
            "              precision    recall  f1-score   support\n",
            "\n",
            "         0.0       0.97      0.79      0.87      1134\n",
            "         1.0       0.33      0.82      0.47       146\n",
            "\n",
            "    accuracy                           0.79      1280\n",
            "   macro avg       0.65      0.80      0.67      1280\n",
            "weighted avg       0.90      0.79      0.82      1280\n",
            "\n"
          ]
        }
      ]
    },
    {
      "cell_type": "markdown",
      "source": [
        "최적의 임계값 0.452를 사용했을 때, 재현율은 0.82이다."
      ],
      "metadata": {
        "id": "lxg8oUvoGblR"
      }
    },
    {
      "cell_type": "markdown",
      "source": [
        "- **AUC**"
      ],
      "metadata": {
        "id": "x2YdO7UayLvx"
      }
    },
    {
      "cell_type": "code",
      "source": [
        "from sklearn.metrics import roc_auc_score\n",
        "\n",
        "auc= roc_auc_score(y_val, y_pred_proba)\n",
        "print(f\"Logistic Regression의 auc score: {auc}\")"
      ],
      "metadata": {
        "id": "PjgpdifxuGU_",
        "colab": {
          "base_uri": "https://localhost:8080/"
        },
        "outputId": "f233db97-caa8-4422-ff3d-8fdca4678397"
      },
      "execution_count": 40,
      "outputs": [
        {
          "output_type": "stream",
          "name": "stdout",
          "text": [
            "Logistic Regression의 auc score: 0.8697301345703172\n"
          ]
        }
      ]
    },
    {
      "cell_type": "markdown",
      "source": [
        "로지스틱 회귀모델의 AUC score가 0.869이므로, Positive sample의 확률이 Negative sample의 확률보다 클 확률이 0.869라고 할 수 있다."
      ],
      "metadata": {
        "id": "ATUR6cP7C1YS"
      }
    }
  ]
}